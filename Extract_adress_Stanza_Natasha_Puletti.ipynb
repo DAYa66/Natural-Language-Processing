{
 "cells": [
  {
   "cell_type": "markdown",
   "id": "ac28865f",
   "metadata": {},
   "source": [
    "# Задание \n",
    "\n",
    "создать функцию для извлечения адреса из строки."
   ]
  },
  {
   "cell_type": "markdown",
   "id": "9ec1ac62",
   "metadata": {},
   "source": [
    "# Stanza"
   ]
  },
  {
   "cell_type": "code",
   "execution_count": 1,
   "id": "598a9435",
   "metadata": {},
   "outputs": [],
   "source": [
    "#!pip install stanza"
   ]
  },
  {
   "cell_type": "code",
   "execution_count": 2,
   "id": "945a37d2",
   "metadata": {},
   "outputs": [
    {
     "data": {
      "application/vnd.jupyter.widget-view+json": {
       "model_id": "79c47816006c4997925fc2beb80df976",
       "version_major": 2,
       "version_minor": 0
      },
      "text/plain": [
       "Downloading https://raw.githubusercontent.com/stanfordnlp/stanza-resources/main/resources_1.4.1.json:   0%|   …"
      ]
     },
     "metadata": {},
     "output_type": "display_data"
    },
    {
     "name": "stderr",
     "output_type": "stream",
     "text": [
      "2023-02-01 21:56:35 INFO: Downloading default packages for language: ru (Russian) ...\n",
      "2023-02-01 21:56:37 INFO: File exists: /home/jb/stanza_resources/ru/default.zip\n",
      "2023-02-01 21:56:46 INFO: Finished downloading models and saved to /home/jb/stanza_resources.\n"
     ]
    }
   ],
   "source": [
    "import stanza\n",
    "stanza.download('ru') "
   ]
  },
  {
   "cell_type": "code",
   "execution_count": 3,
   "id": "927213b7",
   "metadata": {},
   "outputs": [
    {
     "name": "stderr",
     "output_type": "stream",
     "text": [
      "2023-02-01 21:56:46 INFO: Checking for updates to resources.json in case models have been updated.  Note: this behavior can be turned off with download_method=None or download_method=DownloadMethod.REUSE_RESOURCES\n"
     ]
    },
    {
     "data": {
      "application/vnd.jupyter.widget-view+json": {
       "model_id": "467506f9096b4a5b94cb655a338347dc",
       "version_major": 2,
       "version_minor": 0
      },
      "text/plain": [
       "Downloading https://raw.githubusercontent.com/stanfordnlp/stanza-resources/main/resources_1.4.1.json:   0%|   …"
      ]
     },
     "metadata": {},
     "output_type": "display_data"
    },
    {
     "name": "stderr",
     "output_type": "stream",
     "text": [
      "2023-02-01 21:56:48 INFO: Loading these models for language: ru (Russian):\n",
      "=========================\n",
      "| Processor | Package   |\n",
      "-------------------------\n",
      "| tokenize  | syntagrus |\n",
      "| pos       | syntagrus |\n",
      "| lemma     | syntagrus |\n",
      "| depparse  | syntagrus |\n",
      "| ner       | wikiner   |\n",
      "=========================\n",
      "\n",
      "2023-02-01 21:56:48 INFO: Use device: cpu\n",
      "2023-02-01 21:56:48 INFO: Loading: tokenize\n",
      "2023-02-01 21:56:48 INFO: Loading: pos\n",
      "2023-02-01 21:56:49 INFO: Loading: lemma\n",
      "2023-02-01 21:56:49 INFO: Loading: depparse\n",
      "2023-02-01 21:56:50 INFO: Loading: ner\n",
      "2023-02-01 21:56:53 INFO: Done loading processors!\n"
     ]
    },
    {
     "name": "stdout",
     "output_type": "stream",
     "text": [
      "Россия   LOC\n",
      "Липецкая обл.   LOC\n",
      "Липецк   LOC\n",
      "Дзержинский  р-н   LOC\n",
      "ул. Декабристов   LOC\n"
     ]
    }
   ],
   "source": [
    "nlp = stanza.Pipeline('ru') \n",
    "#Текст, содержащий адреса\n",
    "text = \"Я проживаю по адресу Россия, Липецкая обл., г. Липецк, Дзержинский  р-н, ул. Декабристов, д. 13в, кв. 20 русский,женат,  судимости не имею.\"\n",
    "#Извлечение адреса из текста\n",
    "def display_stanza(text):\n",
    "    \"Функция звлечения адреса из текста\"\n",
    "    doc = nlp(text)\n",
    "    #Цикл для вывода адреса в удобной форме\n",
    "    for el in doc.sentences:\n",
    "        for ent in el.entities:\n",
    "            if (ent.type in ('LOC')):\n",
    "                print (ent.text,' ',ent.type)\n",
    "                \n",
    "display_stanza(text)"
   ]
  },
  {
   "cell_type": "markdown",
   "id": "95b14fc2",
   "metadata": {},
   "source": [
    "# Natasha"
   ]
  },
  {
   "cell_type": "code",
   "execution_count": 4,
   "id": "9218205b",
   "metadata": {},
   "outputs": [],
   "source": [
    "#!pip install natasha"
   ]
  },
  {
   "cell_type": "code",
   "execution_count": 5,
   "id": "5adcb0fb",
   "metadata": {},
   "outputs": [],
   "source": [
    "from natasha import Segmenter, MorphVocab, LOC, AddrExtractor"
   ]
  },
  {
   "cell_type": "code",
   "execution_count": 6,
   "id": "fa14d3f7",
   "metadata": {},
   "outputs": [
    {
     "name": "stdout",
     "output_type": "stream",
     "text": [
      "страна Россия\n",
      "область Липецкая\n",
      "город Липецк\n",
      "район Дзержинский\n",
      "улица Декабристов\n",
      "дом 13в\n",
      "квартира 20\n"
     ]
    }
   ],
   "source": [
    "segmenter = Segmenter()\n",
    "morph_vocab = MorphVocab()\n",
    "addr_extractor = AddrExtractor(morph_vocab)\n",
    "text = \"Я проживаю по адресу Россия, Липецкая обл., г. Липецк, Дзержинский  р-н, ул. Декабристов, д. 13в, кв. 20 русский,женат,  судимости не имею.\"\n",
    "def display_natasha(text):\n",
    "    \"Функция звлечения адреса из текста\"\n",
    "    matches = addr_extractor(text)\n",
    "    facts = [i.fact.as_json for i in matches]\n",
    "    #Цикл для вывода адреса в удобной форме\n",
    "    for i in range(len(facts)):\n",
    "        tmp = list(facts[i].values())\n",
    "        print(tmp[1], tmp[0])\n",
    "        \n",
    "display_natasha(text)"
   ]
  },
  {
   "cell_type": "markdown",
   "id": "0665f621",
   "metadata": {},
   "source": [
    "# Pullenti"
   ]
  },
  {
   "cell_type": "code",
   "execution_count": 7,
   "id": "cc3cc49d",
   "metadata": {},
   "outputs": [],
   "source": [
    "#!pip install pullenti"
   ]
  },
  {
   "cell_type": "code",
   "execution_count": 8,
   "id": "2a5400e1",
   "metadata": {},
   "outputs": [],
   "source": [
    "#!pip install pullenti_wrapper"
   ]
  },
  {
   "cell_type": "code",
   "execution_count": 9,
   "id": "b10c904f",
   "metadata": {},
   "outputs": [],
   "source": [
    "from pullenti_wrapper.langs import set_langs, RU\n",
    "set_langs([RU])\n",
    "from pullenti_wrapper.processor import Processor, GEO, ADDRESS\n",
    "from pullenti_wrapper.referent import Referent"
   ]
  },
  {
   "cell_type": "code",
   "execution_count": 11,
   "id": "6c809d1b",
   "metadata": {},
   "outputs": [
    {
     "name": "stdout",
     "output_type": "stream",
     "text": [
      "[{'государство': 'РФ'}, {'область': 'ЛИПЕЦКАЯ'}, {'город': 'ЛИПЕЦК'}, {'район': 'ДЗЕРЖИНСКИЙ'}, {'улица': 'ДЕКАБРИСТОВ'}, {'дом': '13В', 'квартира': '20'}]\n"
     ]
    }
   ],
   "source": [
    "processor = Processor([GEO, ADDRESS])\n",
    "text = \"Я проживаю по адресу Россия, Липецкая обл., г. Липецк, Дзержинский  р-н, ул. Декабристов, д. 13в, кв. 20 русский,женат,  судимости не имею.\"\n",
    "def display_pullenti(referent, level=0):\n",
    "    \"Функция формирования словаря с адресами\"\n",
    "    tmp = {}\n",
    "    a = \"\"\n",
    "    b = \"\"\n",
    "    for key in referent.__shortcuts__:\n",
    "        value = getattr(referent, key)\n",
    "        if value in (None, 0, -1):\n",
    "            continue\n",
    "        if isinstance(value, Referent):\n",
    "            display_pullenti(value, level + 1)\n",
    "        else:\n",
    "            if key == 'type':\n",
    "                a = value \n",
    "            if key == 'name':\n",
    "                b = value\n",
    "                # print('ok', value)\n",
    "            if key == 'house':\n",
    "                a = \"дом\"\n",
    "                b = value\n",
    "                tmp[a] = b\n",
    "            if key == 'flat':\n",
    "                a = \"квартира\"\n",
    "                b = value\n",
    "                # print('ok', value)\n",
    "                tmp[a] = b\n",
    "            if key == 'corpus':\n",
    "                a = \"корпус\"\n",
    "                b = value\n",
    "                tmp[a] = b\n",
    "    tmp[a] = b\n",
    "    addr.append(tmp)\n",
    "#Использование функции display_shortcuts и вывод результатов\n",
    "addr = []\n",
    "result = processor(text)\n",
    "referent = result.matches[0].referent\n",
    "display_pullenti(referent)\n",
    "print(addr)"
   ]
  },
  {
   "cell_type": "markdown",
   "id": "d05006d0",
   "metadata": {},
   "source": [
    "Stanza показала результат не очень."
   ]
  },
  {
   "cell_type": "code",
   "execution_count": null,
   "id": "e007e0f9",
   "metadata": {},
   "outputs": [],
   "source": []
  },
  {
   "cell_type": "code",
   "execution_count": null,
   "id": "70bd6418",
   "metadata": {},
   "outputs": [],
   "source": []
  },
  {
   "cell_type": "code",
   "execution_count": null,
   "id": "e1b9cbeb",
   "metadata": {},
   "outputs": [],
   "source": []
  },
  {
   "cell_type": "code",
   "execution_count": null,
   "id": "e57cbca5",
   "metadata": {},
   "outputs": [],
   "source": []
  }
 ],
 "metadata": {
  "kernelspec": {
   "display_name": "Python 3 (ipykernel)",
   "language": "python",
   "name": "python3"
  },
  "language_info": {
   "codemirror_mode": {
    "name": "ipython",
    "version": 3
   },
   "file_extension": ".py",
   "mimetype": "text/x-python",
   "name": "python",
   "nbconvert_exporter": "python",
   "pygments_lexer": "ipython3",
   "version": "3.8.5"
  }
 },
 "nbformat": 4,
 "nbformat_minor": 5
}
