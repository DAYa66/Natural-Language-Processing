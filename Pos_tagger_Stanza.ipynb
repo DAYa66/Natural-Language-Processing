{
 "cells": [
  {
   "cell_type": "code",
   "execution_count": 1,
   "id": "0d520e3b",
   "metadata": {},
   "outputs": [],
   "source": [
    "#!pip install stanza"
   ]
  },
  {
   "cell_type": "code",
   "execution_count": 2,
   "id": "3b31f44a",
   "metadata": {},
   "outputs": [
    {
     "data": {
      "application/vnd.jupyter.widget-view+json": {
       "model_id": "61f7364e16ab401ab1d71de91ce7c723",
       "version_major": 2,
       "version_minor": 0
      },
      "text/plain": [
       "Downloading https://raw.githubusercontent.com/stanfordnlp/stanza-resources/main/resources_1.4.1.json:   0%|   …"
      ]
     },
     "metadata": {},
     "output_type": "display_data"
    },
    {
     "name": "stderr",
     "output_type": "stream",
     "text": [
      "2023-02-01 21:06:32 INFO: Downloading default packages for language: ru (Russian) ...\n",
      "2023-02-01 21:06:33 INFO: File exists: /home/jb/stanza_resources/ru/default.zip\n",
      "2023-02-01 21:06:42 INFO: Finished downloading models and saved to /home/jb/stanza_resources.\n"
     ]
    }
   ],
   "source": [
    "import stanza\n",
    "stanza.download('ru')"
   ]
  },
  {
   "cell_type": "code",
   "execution_count": 12,
   "id": "c4e808e5",
   "metadata": {},
   "outputs": [
    {
     "name": "stderr",
     "output_type": "stream",
     "text": [
      "2023-02-01 21:14:08 INFO: Checking for updates to resources.json in case models have been updated.  Note: this behavior can be turned off with download_method=None or download_method=DownloadMethod.REUSE_RESOURCES\n"
     ]
    },
    {
     "data": {
      "application/vnd.jupyter.widget-view+json": {
       "model_id": "6126b524ea6343c5a7c382eff50374f7",
       "version_major": 2,
       "version_minor": 0
      },
      "text/plain": [
       "Downloading https://raw.githubusercontent.com/stanfordnlp/stanza-resources/main/resources_1.4.1.json:   0%|   …"
      ]
     },
     "metadata": {},
     "output_type": "display_data"
    },
    {
     "name": "stderr",
     "output_type": "stream",
     "text": [
      "2023-02-01 21:14:08 INFO: Loading these models for language: ru (Russian):\n",
      "=========================\n",
      "| Processor | Package   |\n",
      "-------------------------\n",
      "| tokenize  | syntagrus |\n",
      "| pos       | syntagrus |\n",
      "=========================\n",
      "\n",
      "2023-02-01 21:14:08 INFO: Use device: cpu\n",
      "2023-02-01 21:14:08 INFO: Loading: tokenize\n",
      "2023-02-01 21:14:08 INFO: Loading: pos\n",
      "2023-02-01 21:14:09 INFO: Done loading processors!\n"
     ]
    },
    {
     "name": "stdout",
     "output_type": "stream",
     "text": [
      "word: Идет\tupos: VERB\tfeats: Aspect=Imp|Mood=Ind|Number=Sing|Person=3|Tense=Pres|VerbForm=Fin|Voice=Act\n",
      "word: бычок\tupos: NOUN\tfeats: Animacy=Inan|Case=Nom|Gender=Masc|Number=Sing\n",
      "word: качается\tupos: VERB\tfeats: Aspect=Imp|Mood=Ind|Number=Sing|Person=3|Tense=Pres|VerbForm=Fin|Voice=Mid\n",
      "word: шатаясь\tupos: VERB\tfeats: Aspect=Imp|Tense=Pres|VerbForm=Conv|Voice=Mid\n",
      "word: на\tupos: ADP\tfeats: _\n",
      "word: ходу\tupos: NOUN\tfeats: Animacy=Inan|Case=Loc|Gender=Masc|Number=Sing\n",
      "word: .\tupos: PUNCT\tfeats: _\n",
      "word: Ой\tupos: CCONJ\tfeats: _\n",
      "word: досточка\tupos: NOUN\tfeats: Animacy=Inan|Case=Nom|Gender=Fem|Number=Sing\n",
      "word: кончается\tupos: VERB\tfeats: Aspect=Imp|Mood=Ind|Number=Sing|Person=3|Tense=Pres|VerbForm=Fin|Voice=Mid\n",
      "word: сейчас\tupos: ADV\tfeats: Degree=Pos\n",
      "word: я\tupos: PRON\tfeats: Case=Nom|Number=Sing|Person=1|PronType=Prs\n",
      "word: упаду\tupos: VERB\tfeats: Aspect=Perf|Mood=Ind|Number=Sing|Person=1|Tense=Fut|VerbForm=Fin|Voice=Act\n",
      "word: .\tupos: PUNCT\tfeats: _\n"
     ]
    }
   ],
   "source": [
    "ppln = stanza.Pipeline('ru', processors='tokenize,pos')\n",
    "txt = 'Идет бычок качается шатаясь на ходу. Ой досточка кончается сейчас я упаду.'\n",
    "doc = ppln(txt)\n",
    "print(*[f'word: {word.text}\\tupos: {word.upos}\\tfeats: {word.feats if word.feats else \"_\"}' \\\n",
    "        for snt in doc.sentences for word in snt.words], sep='\\n')"
   ]
  },
  {
   "cell_type": "markdown",
   "id": "a8b10cc1",
   "metadata": {},
   "source": [
    "Анализ зависимостей."
   ]
  },
  {
   "cell_type": "code",
   "execution_count": 11,
   "id": "14ae237a",
   "metadata": {},
   "outputs": [
    {
     "name": "stderr",
     "output_type": "stream",
     "text": [
      "2023-02-01 21:12:26 INFO: Checking for updates to resources.json in case models have been updated.  Note: this behavior can be turned off with download_method=None or download_method=DownloadMethod.REUSE_RESOURCES\n"
     ]
    },
    {
     "data": {
      "application/vnd.jupyter.widget-view+json": {
       "model_id": "6be3ebcc619347c6ab9d9da6f769bcfe",
       "version_major": 2,
       "version_minor": 0
      },
      "text/plain": [
       "Downloading https://raw.githubusercontent.com/stanfordnlp/stanza-resources/main/resources_1.4.1.json:   0%|   …"
      ]
     },
     "metadata": {},
     "output_type": "display_data"
    },
    {
     "name": "stderr",
     "output_type": "stream",
     "text": [
      "2023-02-01 21:12:27 INFO: Loading these models for language: ru (Russian):\n",
      "=========================\n",
      "| Processor | Package   |\n",
      "-------------------------\n",
      "| tokenize  | syntagrus |\n",
      "| pos       | syntagrus |\n",
      "| lemma     | syntagrus |\n",
      "| depparse  | syntagrus |\n",
      "=========================\n",
      "\n",
      "2023-02-01 21:12:27 INFO: Use device: cpu\n",
      "2023-02-01 21:12:27 INFO: Loading: tokenize\n",
      "2023-02-01 21:12:27 INFO: Loading: pos\n",
      "2023-02-01 21:12:27 INFO: Loading: lemma\n",
      "2023-02-01 21:12:28 INFO: Loading: depparse\n",
      "2023-02-01 21:12:28 INFO: Done loading processors!\n"
     ]
    },
    {
     "name": "stdout",
     "output_type": "stream",
     "text": [
      "word: Идет\thead: root\tdeprel: root\n",
      "word: бычок\thead: Идет\tdeprel: nsubj\n",
      "word: качается\thead: Идет\tdeprel: conj\n",
      "word: шатаясь\thead: качается\tdeprel: advcl\n",
      "word: на\thead: ходу\tdeprel: case\n",
      "word: ходу\thead: шатаясь\tdeprel: obl\n",
      "word: .\thead: Идет\tdeprel: punct\n",
      "word: Ой\thead: кончается\tdeprel: cc\n",
      "word: досточка\thead: кончается\tdeprel: nsubj\n",
      "word: кончается\thead: root\tdeprel: root\n",
      "word: сейчас\thead: упаду\tdeprel: advmod\n",
      "word: я\thead: упаду\tdeprel: nsubj\n",
      "word: упаду\thead: кончается\tdeprel: conj\n",
      "word: .\thead: кончается\tdeprel: punct\n"
     ]
    }
   ],
   "source": [
    "ppln = stanza.Pipeline('ru', processors='tokenize,pos,lemma,depparse')\n",
    "txt = 'Идет бычок качается шатаясь на ходу. Ой досточка кончается сейчас я упаду.'\n",
    "doc = ppln(txt)\n",
    "print(*[f'word: {word.text}\\thead: {snt.words[word.head-1].text if word.head > 0 else \"root\"}\\tdeprel: {word.deprel}' \\\n",
    "        for snt in doc.sentences for word in snt.words], sep='\\n')"
   ]
  },
  {
   "cell_type": "code",
   "execution_count": null,
   "id": "21031192",
   "metadata": {},
   "outputs": [],
   "source": []
  },
  {
   "cell_type": "code",
   "execution_count": null,
   "id": "f904a43c",
   "metadata": {},
   "outputs": [],
   "source": []
  },
  {
   "cell_type": "code",
   "execution_count": null,
   "id": "abae6949",
   "metadata": {},
   "outputs": [],
   "source": []
  }
 ],
 "metadata": {
  "kernelspec": {
   "display_name": "Python 3 (ipykernel)",
   "language": "python",
   "name": "python3"
  },
  "language_info": {
   "codemirror_mode": {
    "name": "ipython",
    "version": 3
   },
   "file_extension": ".py",
   "mimetype": "text/x-python",
   "name": "python",
   "nbconvert_exporter": "python",
   "pygments_lexer": "ipython3",
   "version": "3.8.5"
  }
 },
 "nbformat": 4,
 "nbformat_minor": 5
}
